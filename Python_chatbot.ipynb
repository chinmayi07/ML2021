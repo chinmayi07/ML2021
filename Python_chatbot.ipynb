{
  "nbformat": 4,
  "nbformat_minor": 0,
  "metadata": {
    "colab": {
      "name": "Python chatbot",
      "provenance": [],
      "authorship_tag": "ABX9TyOskyYQUKHAkHStGcRVE5P7",
      "include_colab_link": true
    },
    "kernelspec": {
      "name": "python3",
      "display_name": "Python 3"
    }
  },
  "cells": [
    {
      "cell_type": "markdown",
      "metadata": {
        "id": "view-in-github",
        "colab_type": "text"
      },
      "source": [
        "<a href=\"https://colab.research.google.com/github/chinmayi07/ML2021/blob/main/Python_chatbot.ipynb\" target=\"_parent\"><img src=\"https://colab.research.google.com/assets/colab-badge.svg\" alt=\"Open In Colab\"/></a>"
      ]
    },
    {
      "cell_type": "markdown",
      "metadata": {
        "id": "yHRE4PGoXFkW"
      },
      "source": [
        "Code for python chatbot"
      ]
    },
    {
      "cell_type": "code",
      "metadata": {
        "id": "9y4kDKE9Wjnj",
        "outputId": "7d45d3e6-eef5-421b-bd50-b3946d8ff3e6",
        "colab": {
          "base_uri": "https://localhost:8080/",
          "height": 571
        }
      },
      "source": [
        "import requests,json\n",
        "import random\n",
        "from datetime import datetime\n",
        "import pytz\n",
        "\n",
        "def greet():\n",
        "    greet=[\"Hi I am chatbot and will do you what you ask me to do\",\"Hello I am chatbot and I will you whatever you ask me to do\",\"Welcome to chatbot. I will answer to whatever you ask\"]\n",
        "    print(random.choice(greet))\n",
        "\n",
        "def welcome(name):\n",
        "    print(\"Hi\",name)\n",
        "    print(\"Nice to meeet you!... How can I help you?\")\n",
        "\n",
        "def show_menu():\n",
        "    print(\"---------------------------------------------------------------\")\n",
        "    print(\"       1.I will tell you what is date and time\")\n",
        "    print(\"       2.I will tell you the weather for the place you ask\")\n",
        "    print(\"       3.Exit this chat\")\n",
        "    print(\"---------------------------------------------------------------\")\n",
        "    try:\n",
        "        return int(input(\"Enter the number of which you want to know : \"))\n",
        "    except:\n",
        "        print(\"Only numbers\")\n",
        "\n",
        "def ask_question(question):\n",
        "    try:\n",
        "        return question\n",
        "    except:\n",
        "        print(\"Ask a question\")\n",
        "\n",
        "def weather():\n",
        "    place=input(\"Enter the place you want to know : \")\n",
        "    api=\"https://api.openweathermap.org/data/2.5/weather?\"+\"q=\"+place+\"&appid=\"+\"1d0fdde520d4cb39c12c77e46601fcdd\"\n",
        "    res=requests.get(api)\n",
        "    if res.status_code==200:\n",
        "        data_weather=res.json()\n",
        "        main=data_weather['main']\n",
        "        # getting temperature\n",
        "        temp=main['temp']\n",
        "        #getting weather condition\n",
        "        condition= data_weather['weather']\n",
        "        print(\"The temperature in \",place,\" is \",temp,\" degrees.\")\n",
        "        print(\"The weather condition in \",place,\" is \",condition)\n",
        "    else:\n",
        "        print(\"The city is not found.Please enter correct name\")\n",
        "\n",
        "def date_time():\n",
        "    tz=pytz.utc\n",
        "    country=int(input(\"Enter your option from \\n1.Asia/Kolkata \\n2.America/New York : \"))\n",
        "    if country==1:\n",
        "        time_asia=pytz.timezone(\"Asia/Kolkata\")\n",
        "        date_asia=datetime.now(time_asia)\n",
        "        time=date_asia.astimezone(tz)\n",
        "        print(time.strftime(\"Date: %Y-%m-%d\\n Time: %H-%M-%S\"))\n",
        "    elif country==2:\n",
        "        time_us=pytz.timezone(\"America/New_York\")\n",
        "        date_us=datetime.now(time_us)\n",
        "        time1=date_us.astimezone(tz)\n",
        "        print(time1.strftime(\"Date: %Y-%m-%d\\n Time: %H-%M-%S\"))\n",
        "    else:\n",
        "        print(\"Enter correct number\")\n",
        "\n",
        "\n",
        "def bot():\n",
        "    greeting=input()\n",
        "    greet()\n",
        "    name=input('Your good name please?')\n",
        "    welcome(name)\n",
        "    question=input()\n",
        "    ask_question(question)\n",
        "    option=show_menu()\n",
        "    while option!=3:\n",
        "        if option==1:\n",
        "            date_time()\n",
        "        elif option==2:\n",
        "            weather()\n",
        "        option=show_menu()\n",
        "    else:\n",
        "        print(\"Thank you!.. Let's meet next time\")\n",
        "        \n",
        "bot()"
      ],
      "execution_count": 1,
      "outputs": [
        {
          "output_type": "stream",
          "text": [
            "Hello\n",
            "Welcome to chatbot. I will answer to whatever you ask\n",
            "Your good name please?Chinmayi\n",
            "Hi Chinmayi\n",
            "Nice to meeet you!... How can I help you?\n",
            "what can you do\n",
            "---------------------------------------------------------------\n",
            "       1.I will tell you what is date and time\n",
            "       2.I will tell you the weather for the place you ask\n",
            "       3.Exit this chat\n",
            "---------------------------------------------------------------\n",
            "Enter the number of which you want to know : 1\n",
            "Enter your option from \n",
            "1.Asia/Kolkata \n",
            "2.America/New York : 2\n",
            "Date: 2020-10-18\n",
            " Time: 15-37-17\n",
            "---------------------------------------------------------------\n",
            "       1.I will tell you what is date and time\n",
            "       2.I will tell you the weather for the place you ask\n",
            "       3.Exit this chat\n",
            "---------------------------------------------------------------\n",
            "Enter the number of which you want to know : 2\n",
            "Enter the place you want to know : Chennai\n",
            "The temperature in  Chennai  is  299.15  degrees.\n",
            "The weather condition in  Chennai  is  [{'id': 300, 'main': 'Drizzle', 'description': 'light intensity drizzle', 'icon': '09n'}]\n",
            "---------------------------------------------------------------\n",
            "       1.I will tell you what is date and time\n",
            "       2.I will tell you the weather for the place you ask\n",
            "       3.Exit this chat\n",
            "---------------------------------------------------------------\n",
            "Enter the number of which you want to know : 3\n",
            "Thank you!.. Let's meet next time\n"
          ],
          "name": "stdout"
        }
      ]
    }
  ]
}